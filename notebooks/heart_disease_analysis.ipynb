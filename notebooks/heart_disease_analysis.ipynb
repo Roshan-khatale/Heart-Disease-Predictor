{
  "cells": [
    {
      "cell_type": "code",
      "execution_count": null,
      "metadata": {},
      "outputs": [],
      "source": [
        "import pandas as pd\n",
        "from sklearn.linear_model import LogisticRegression\n",
        "import matplotlib.pyplot as plt\n\n",
        "df = pd.read_csv('../data/heart.csv')\n",
        "X = df.drop('target', axis=1)\n",
        "y = df['target']\n\n",
        "model = LogisticRegression()\n",
        "model.fit(X, y)\n",
        "print(f\"Accuracy: {model.score(X, y):.2f}\")"
      ]
    }
  ],
  "metadata": {},
  "nbformat": 4,
  "nbformat_minor": 5
}